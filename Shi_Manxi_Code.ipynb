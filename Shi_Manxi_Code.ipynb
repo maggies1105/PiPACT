{
 "cells": [
  {
   "cell_type": "code",
   "execution_count": 77,
   "metadata": {},
   "outputs": [],
   "source": [
    "# importing libraries\n",
    "\n",
    "import pandas as pd\n",
    "import numpy as np\n",
    "from matplotlib import pyplot as plt\n",
    "import seaborn as sns\n",
    "from scipy.stats import norm\n",
    "import random\n",
    "from sklearn import linear_model\n",
    "from sklearn.metrics import roc_curve\n",
    "from sklearn.model_selection import train_test_split\n",
    "from sklearn.neural_network import MLPClassifier\n",
    "from sklearn.metrics import accuracy_score\n",
    "from sklearn.metrics import confusion_matrix\n",
    "from sklearn.metrics import plot_roc_curve\n",
    "%matplotlib inline"
   ]
  },
  {
   "cell_type": "code",
   "execution_count": 78,
   "metadata": {},
   "outputs": [],
   "source": [
    "# importing data\n",
    "\n",
    "data1 = pd.read_csv('/Users/maggieshi/Desktop/PiPACT_FinalReport/1foot.csv')\n",
    "f2 = pd.read_csv('/Users/maggieshi/Desktop/PiPACT_FinalReport/2feet.csv')\n",
    "f6 = pd.read_csv('/Users/maggieshi/Desktop/PiPACT_FinalReport/6feet.csv')\n",
    "f8 = pd.read_csv('/Users/maggieshi/Desktop/PiPACT_FinalReport/8feet.csv')\n",
    "f10 = pd.read_csv('/Users/maggieshi/Desktop/PiPACT_FinalReport/10feet.csv')\n",
    "d1 = pd.read_csv('/Users/maggieshi/Desktop/PiPACT_FinalReport/1foot_2.csv')\n",
    "f3 = pd.read_csv('/Users/maggieshi/Desktop/PiPACT_FinalReport/3feet.csv')\n",
    "f4 = pd.read_csv('/Users/maggieshi/Desktop/PiPACT_FinalReport/4feet.csv')\n",
    "f5 = pd.read_csv('/Users/maggieshi/Desktop/PiPACT_FinalReport/5feet.csv')\n",
    "f7 = pd.read_csv('/Users/maggieshi/Desktop/PiPACT_FinalReport/7feet.csv')\n",
    "f9 = pd.read_csv('/Users/maggieshi/Desktop/PiPACT_FinalReport/9feet.csv')\n",
    "f4_i = pd.read_csv('/Users/maggieshi/Desktop/PiPACT_FinalReport/4feet_wall.csv')\n",
    "f5_i = pd.read_csv('/Users/maggieshi/Desktop/PiPACT_FinalReport/5feet_wall.csv')\n",
    "f6_i = pd.read_csv('/Users/maggieshi/Desktop/PiPACT_FinalReport/6feet_wall.csv')\n",
    "f7_i = pd.read_csv('/Users/maggieshi/Desktop/PiPACT_FinalReport/7feet_wall.csv')"
   ]
  },
  {
   "cell_type": "code",
   "execution_count": 79,
   "metadata": {},
   "outputs": [],
   "source": [
    "# there are always two addresses that appear, so I made a function to remove the one that was not the other Pi\n",
    "\n",
    "def clean(data):\n",
    "    return data[data['ADDRESS'] != '98:04:ED:C0:E4:41'].reset_index(drop=True)"
   ]
  },
  {
   "cell_type": "code",
   "execution_count": 80,
   "metadata": {},
   "outputs": [],
   "source": [
    "# combining dataframes for two separate data collections, but both for 1 foot apart\n",
    "\n",
    "f1 = pd.concat([data1,d1])"
   ]
  },
  {
   "cell_type": "code",
   "execution_count": 81,
   "metadata": {},
   "outputs": [],
   "source": [
    "# cleaning data\n",
    "\n",
    "f1 = clean(f1).reset_index(drop=True).drop(['SCAN'],axis=1)\n",
    "f2 = clean(f2).reset_index(drop=True).drop(['SCAN'],axis=1)\n",
    "f3 = clean(f3).reset_index(drop=True).drop(['SCAN'],axis=1)\n",
    "f4 = clean(f4).reset_index(drop=True).drop(['SCAN'],axis=1)\n",
    "f5 = clean(f5).reset_index(drop=True).drop(['SCAN'],axis=1)\n",
    "f6 = clean(f6).reset_index(drop=True).drop(['SCAN'],axis=1)\n",
    "f7 = clean(f7).reset_index(drop=True).drop(['SCAN'],axis=1)\n",
    "f8 = clean(f8).reset_index(drop=True).drop(['SCAN'],axis=1)\n",
    "f9 = clean(f9).reset_index(drop=True).drop(['SCAN'],axis=1)\n",
    "f10 = clean(f10).reset_index(drop=True).drop(['SCAN'],axis=1)\n",
    "\n",
    "f4_i = clean(f4_i).reset_index(drop=True).drop(['SCAN'],axis=1)\n",
    "f5_i = clean(f5_i).reset_index(drop=True).drop(['SCAN'],axis=1)\n",
    "f6_i = clean(f6_i).reset_index(drop=True).drop(['SCAN'],axis=1)\n",
    "f7_i = clean(f7_i).reset_index(drop=True).drop(['SCAN'],axis=1)"
   ]
  },
  {
   "cell_type": "code",
   "execution_count": 82,
   "metadata": {},
   "outputs": [],
   "source": [
    "# adding respective distance and obstruction values to each dataframe\n",
    "# I could not find a better way to do it other than hard coding it\n",
    "\n",
    "# distances in feet\n",
    "\n",
    "dist = [1.0,1.0,1.0]\n",
    "dist = np.append(dist, np.zeros(f1['RSSI'].size-3) + np.nan)\n",
    "f1['distance'] = dist\n",
    "\n",
    "dist = [2.0,2.0,2.0]\n",
    "dist = np.append(dist, np.zeros(f2['RSSI'].size-3) + np.nan)\n",
    "f2['distance'] = dist\n",
    "\n",
    "dist = [3.0,3.0,3.0]\n",
    "dist = np.append(dist, np.zeros(f3['RSSI'].size-3) + np.nan)\n",
    "f3['distance'] = dist\n",
    "\n",
    "dist = [4.0,4.0,4.0]\n",
    "dist = np.append(dist, np.zeros(f4['RSSI'].size-3) + np.nan)\n",
    "f4['distance'] = dist\n",
    "\n",
    "dist = [4.0,4.0,4.0]\n",
    "dist = np.append(dist, np.zeros(f4_i['RSSI'].size-3) + np.nan)\n",
    "f4_i['distance'] = dist\n",
    "\n",
    "dist = [5.0,5.0,5.0]\n",
    "dist = np.append(dist, np.zeros(f5['RSSI'].size-3) + np.nan)\n",
    "f5['distance'] = dist\n",
    "\n",
    "dist = [5.0,5.0,5.0]\n",
    "dist = np.append(dist, np.zeros(f5_i['RSSI'].size-3) + np.nan)\n",
    "f5_i['distance'] = dist\n",
    "\n",
    "dist = [6.0,6.0,6.0]\n",
    "dist = np.append(dist, np.zeros(f6['RSSI'].size-3) + np.nan)\n",
    "f6['distance'] = dist\n",
    "\n",
    "dist = [6.0,6.0,6.0]\n",
    "dist = np.append(dist, np.zeros(f6_i['RSSI'].size-3) + np.nan)\n",
    "f6_i['distance'] = dist\n",
    "\n",
    "dist = [7.0,7.0,7.0]\n",
    "dist = np.append(dist, np.zeros(f7['RSSI'].size-3) + np.nan)\n",
    "f7['distance'] = dist\n",
    "\n",
    "dist = [7.0,7.0,7.0]\n",
    "dist = np.append(dist, np.zeros(f7_i['RSSI'].size-3) + np.nan)\n",
    "f7_i['distance'] = dist\n",
    "\n",
    "dist = [8.0,8.0,8.0]\n",
    "dist = np.append(dist, np.zeros(f8['RSSI'].size-3) + np.nan)\n",
    "f8['distance'] = dist\n",
    "\n",
    "dist = [9.0,9.0,9.0]\n",
    "dist = np.append(dist, np.zeros(f9['RSSI'].size-3) + np.nan)\n",
    "f9['distance'] = dist\n",
    "\n",
    "dist = [10.0,10.0,10.0]\n",
    "dist = np.append(dist, np.zeros(f10['RSSI'].size-3) + np.nan)\n",
    "f10['distance'] = dist\n",
    "\n",
    "\n",
    "# obstruction values: 0.0 no, 1.0 yes\n",
    "\n",
    "obs = [0.0,0.0,0.0]\n",
    "obs = np.append(obs, np.zeros(f1['RSSI'].size-3) + np.nan)\n",
    "f1['obstruction'] = obs\n",
    "\n",
    "obs = [0.0,0.0,0.0]\n",
    "obs = np.append(obs, np.zeros(f2['RSSI'].size-3) + np.nan)\n",
    "f2['obstruction'] = obs\n",
    "\n",
    "obs = [0.0,0.0,0.0]\n",
    "obs = np.append(obs, np.zeros(f3['RSSI'].size-3) + np.nan)\n",
    "f3['obstruction'] = obs\n",
    "\n",
    "obs = [0.0,0.0,0.0]\n",
    "obs = np.append(obs, np.zeros(f4['RSSI'].size-3) + np.nan)\n",
    "f4['obstruction'] = obs\n",
    "\n",
    "obs = [0.0,0.0,0.0]\n",
    "obs = np.append(obs, np.zeros(f5['RSSI'].size-3) + np.nan)\n",
    "f5['obstruction'] = obs\n",
    "\n",
    "obs = [0.0,0.0,0.0]\n",
    "obs = np.append(obs, np.zeros(f6['RSSI'].size-3) + np.nan)\n",
    "f6['obstruction'] = obs\n",
    "\n",
    "obs = [0.0,0.0,0.0]\n",
    "obs = np.append(obs, np.zeros(f7['RSSI'].size-3) + np.nan)\n",
    "f7['obstruction'] = obs\n",
    "\n",
    "obs = [0.0,0.0,0.0]\n",
    "obs = np.append(obs, np.zeros(f8['RSSI'].size-3) + np.nan)\n",
    "f8['obstruction'] = obs\n",
    "\n",
    "obs = [0.0,0.0,0.0]\n",
    "obs = np.append(obs, np.zeros(f9['RSSI'].size-3) + np.nan)\n",
    "f9['obstruction'] = obs\n",
    "\n",
    "obs = [0.0,0.0,0.0]\n",
    "obs = np.append(obs, np.zeros(f10['RSSI'].size-3) + np.nan)\n",
    "f10['obstruction'] = obs\n",
    "\n",
    "\n",
    "obs = [1.0,1.0,1.0]\n",
    "obs = np.append(obs, np.zeros(f4_i['RSSI'].size-3) + np.nan)\n",
    "f4_i['obstruction'] = obs\n",
    "\n",
    "obs = [1.0,1.0,1.0]\n",
    "obs = np.append(obs, np.zeros(f5_i['RSSI'].size-3) + np.nan)\n",
    "f5_i['obstruction'] = obs\n",
    "\n",
    "obs = [1.0,1.0,1.0]\n",
    "obs = np.append(obs, np.zeros(f6_i['RSSI'].size-3) + np.nan)\n",
    "f6_i['obstruction'] = obs\n",
    "\n",
    "obs = [1.0,1.0,1.0]\n",
    "obs = np.append(obs, np.zeros(f7_i['RSSI'].size-3) + np.nan)\n",
    "f7_i['obstruction'] = obs"
   ]
  },
  {
   "cell_type": "code",
   "execution_count": 83,
   "metadata": {},
   "outputs": [],
   "source": [
    "# function for getting general information about a dataframe\n",
    "\n",
    "def get_info(data):\n",
    "    print(data['RSSI'].size)\n",
    "    mean = data['RSSI'].mean()\n",
    "    sigma = data['RSSI'].std()\n",
    "    lower = data['RSSI'].min()\n",
    "    upper = data['RSSI'].max()\n",
    "    print('mean:'+str(mean)+\"     std:\"+str(sigma)+\"     minimum RSSI:\"+str(lower)+\"     maximum RSSI:\"+str(upper))\n",
    "    print()\n",
    "\n",
    "    \n",
    "# function for plotting the pdf graph for a single dataframe\n",
    "\n",
    "def pdf_plot(data):\n",
    "    mean = data['RSSI'].mean()\n",
    "    sigma = data['RSSI'].std()\n",
    "    lower = data['RSSI'].min()\n",
    "    upper = data['RSSI'].max()\n",
    "    \n",
    "    y_prob = []\n",
    "    for i in data['RSSI']:\n",
    "        y = norm(mean, sigma).pdf(i)\n",
    "        y_prob.append(y)\n",
    "\n",
    "    plt.bar(data['RSSI'],y_prob)\n",
    "    plt.xlabel('RSSI')\n",
    "    plt.ylabel('PDF')\n",
    "    plt.show()\n",
    "    \n",
    "    \n",
    "# function for plotting the pdf graph of multiple dataframes at once\n",
    "\n",
    "def pdf_plots(*args):\n",
    "    for data in args:\n",
    "        mean = data['RSSI'].mean()\n",
    "        sigma = data['RSSI'].std()\n",
    "        lower = data['RSSI'].min()\n",
    "        upper = data['RSSI'].max()\n",
    "    \n",
    "        y_prob = []\n",
    "        for i in data['RSSI']:\n",
    "            y = norm(mean, sigma).pdf(i)\n",
    "            y_prob.append(y)\n",
    "\n",
    "        plt.bar(data['RSSI'],y_prob)\n",
    "    plt.xlabel('RSSI')\n",
    "    plt.ylabel('PDF')\n",
    "    plt.show()"
   ]
  },
  {
   "cell_type": "code",
   "execution_count": 84,
   "metadata": {},
   "outputs": [
    {
     "name": "stdout",
     "output_type": "stream",
     "text": [
      "978\n",
      "mean:-42.964212678936605     std:3.4311099218125802     minimum RSSI:-51     maximum RSSI:-31\n",
      "\n",
      "724\n",
      "mean:-48.950276243093924     std:1.6211815205206632     minimum RSSI:-52     maximum RSSI:-44\n",
      "\n",
      "694\n",
      "mean:-53.128242074927954     std:3.5504174206010055     minimum RSSI:-61     maximum RSSI:-32\n",
      "\n",
      "637\n",
      "mean:-66.6043956043956     std:4.201734385138007     minimum RSSI:-81     maximum RSSI:-48\n",
      "\n",
      "603\n",
      "mean:-57.091210613598676     std:2.5770464616562503     minimum RSSI:-67     maximum RSSI:-41\n",
      "\n",
      "621\n",
      "mean:-59.01610305958132     std:2.4983345967070805     minimum RSSI:-63     maximum RSSI:-54\n",
      "\n",
      "605\n",
      "mean:-71.64132231404959     std:4.603692540076669     minimum RSSI:-97     maximum RSSI:-55\n",
      "\n",
      "612\n",
      "mean:-69.37581699346406     std:2.1557831829190377     minimum RSSI:-74     maximum RSSI:-65\n",
      "\n",
      "592\n",
      "mean:-74.63851351351352     std:5.685889842644996     minimum RSSI:-97     maximum RSSI:-58\n",
      "\n",
      "702\n",
      "mean:-66.9045584045584     std:1.8826505024986377     minimum RSSI:-74     maximum RSSI:-50\n",
      "\n",
      "542\n",
      "mean:-61.34132841328413     std:6.332420211631358     minimum RSSI:-72     maximum RSSI:-46\n",
      "\n",
      "603\n",
      "mean:-56.97014925373134     std:1.4406663086580018     minimum RSSI:-61     maximum RSSI:-54\n",
      "\n",
      "735\n",
      "mean:-58.03809523809524     std:2.5020246116155356     minimum RSSI:-64     maximum RSSI:-47\n",
      "\n",
      "605\n",
      "mean:-68.33884297520662     std:3.222318997039235     minimum RSSI:-74     maximum RSSI:-62\n",
      "\n"
     ]
    }
   ],
   "source": [
    "# for just visualizing or possibly seeing trends in RSSI or standard deviation\n",
    "\n",
    "get_info(f1)\n",
    "get_info(f2)\n",
    "get_info(f3)\n",
    "get_info(f4)\n",
    "get_info(f5)\n",
    "get_info(f6)\n",
    "get_info(f7)\n",
    "get_info(f8)\n",
    "get_info(f9)\n",
    "get_info(f10)\n",
    "\n",
    "get_info(f4_i)\n",
    "get_info(f5_i)\n",
    "get_info(f6_i)\n",
    "get_info(f7_i)"
   ]
  },
  {
   "cell_type": "code",
   "execution_count": 85,
   "metadata": {},
   "outputs": [
    {
     "data": {
      "image/png": "[encoded data removed]",
      "text/plain": [
       "<Figure size 432x288 with 1 Axes>"
      ]
     },
     "metadata": {
      "needs_background": "light"
     },
     "output_type": "display_data"
    }
   ],
   "source": [
    "pdf_plots(f1,f3,f5)"
   ]
  },
  {
   "cell_type": "code",
   "execution_count": 86,
   "metadata": {},
   "outputs": [
    {
     "data": {
      "image/png": "[encoded data removed]",
      "text/plain": [
       "<Figure size 432x288 with 1 Axes>"
      ]
     },
     "metadata": {
      "needs_background": "light"
     },
     "output_type": "display_data"
    }
   ],
   "source": [
    "pdf_plots(f2,f4,f6)"
   ]
  },
  {
   "cell_type": "code",
   "execution_count": 87,
   "metadata": {},
   "outputs": [
    {
     "data": {
      "image/png": "[encoded data removed]",
      "text/plain": [
       "<Figure size 432x288 with 1 Axes>"
      ]
     },
     "metadata": {
      "needs_background": "light"
     },
     "output_type": "display_data"
    }
   ],
   "source": [
    "pdf_plots(f5,f7)"
   ]
  },
  {
   "cell_type": "code",
   "execution_count": 88,
   "metadata": {},
   "outputs": [
    {
     "data": {
      "image/png": "[encoded data removed]",
      "text/plain": [
       "<Figure size 432x288 with 1 Axes>"
      ]
     },
     "metadata": {
      "needs_background": "light"
     },
     "output_type": "display_data"
    }
   ],
   "source": [
    "pdf_plots(f2,f9)"
   ]
  },
  {
   "cell_type": "code",
   "execution_count": 89,
   "metadata": {},
   "outputs": [
    {
     "data": {
      "image/png": "[encoded data removed]",
      "text/plain": [
       "<Figure size 432x288 with 1 Axes>"
      ]
     },
     "metadata": {
      "needs_background": "light"
     },
     "output_type": "display_data"
    }
   ],
   "source": [
    "pdf_plots(f4_i,f5_i,f6_i,f7_i)"
   ]
  },
  {
   "cell_type": "code",
   "execution_count": 90,
   "metadata": {},
   "outputs": [],
   "source": [
    "# function to combine all dataframes into one big dataframe for use in machine learning model\n",
    "\n",
    "def get_data(*args):\n",
    "    df = pd.DataFrame()\n",
    "    mean = []\n",
    "    std = []\n",
    "    dist = []\n",
    "    obs = []\n",
    "    prox = []\n",
    "    for arg in args:\n",
    "        arg = clean(arg)\n",
    "        mean.append((arg['RSSI'].mean())*(random.random()/50+1))\n",
    "        std.append((arg['RSSI'].std())*(random.random()/50+1))\n",
    "        dist.append(arg['distance'][1])\n",
    "        obs.append(arg['obstruction'][1])\n",
    "        if ((arg['distance'][1]>=6.0) & (arg['obstruction'][1]!=1.0)):\n",
    "            prox.append(0.0)\n",
    "        elif ((arg['distance'][1]<6.0) & (arg['obstruction'][1]!=1.0)):\n",
    "            prox.append(1.0)\n",
    "        else:\n",
    "            prox.append(np.nan)\n",
    "    df['mean'] = mean\n",
    "    df['std'] = std\n",
    "    df['distance'] = dist\n",
    "    df['obstruction'] = obs\n",
    "    df['proximity'] = prox\n",
    "    return df"
   ]
  },
  {
   "cell_type": "code",
   "execution_count": 91,
   "metadata": {},
   "outputs": [
    {
     "data": {
      "text/html": [
       "<div>\n",
       "<style scoped>\n",
       "    .dataframe tbody tr th:only-of-type {\n",
       "        vertical-align: middle;\n",
       "    }\n",
       "\n",
       "    .dataframe tbody tr th {\n",
       "        vertical-align: top;\n",
       "    }\n",
       "\n",
       "    .dataframe thead th {\n",
       "        text-align: right;\n",
       "    }\n",
       "</style>\n",
       "<table border=\"1\" class=\"dataframe\">\n",
       "  <thead>\n",
       "    <tr style=\"text-align: right;\">\n",
       "      <th></th>\n",
       "      <th>mean</th>\n",
       "      <th>std</th>\n",
       "      <th>distance</th>\n",
       "      <th>obstruction</th>\n",
       "      <th>proximity</th>\n",
       "    </tr>\n",
       "  </thead>\n",
       "  <tbody>\n",
       "    <tr>\n",
       "      <th>0</th>\n",
       "      <td>-61.955542</td>\n",
       "      <td>6.396193</td>\n",
       "      <td>4.0</td>\n",
       "      <td>1.0</td>\n",
       "      <td>NaN</td>\n",
       "    </tr>\n",
       "    <tr>\n",
       "      <th>1</th>\n",
       "      <td>-57.410522</td>\n",
       "      <td>1.442417</td>\n",
       "      <td>5.0</td>\n",
       "      <td>1.0</td>\n",
       "      <td>NaN</td>\n",
       "    </tr>\n",
       "    <tr>\n",
       "      <th>2</th>\n",
       "      <td>-58.159827</td>\n",
       "      <td>2.524213</td>\n",
       "      <td>6.0</td>\n",
       "      <td>1.0</td>\n",
       "      <td>NaN</td>\n",
       "    </tr>\n",
       "    <tr>\n",
       "      <th>3</th>\n",
       "      <td>-68.412590</td>\n",
       "      <td>3.272819</td>\n",
       "      <td>7.0</td>\n",
       "      <td>1.0</td>\n",
       "      <td>NaN</td>\n",
       "    </tr>\n",
       "    <tr>\n",
       "      <th>4</th>\n",
       "      <td>-43.610822</td>\n",
       "      <td>3.461639</td>\n",
       "      <td>1.0</td>\n",
       "      <td>0.0</td>\n",
       "      <td>1.0</td>\n",
       "    </tr>\n",
       "    <tr>\n",
       "      <th>5</th>\n",
       "      <td>-49.836438</td>\n",
       "      <td>1.643890</td>\n",
       "      <td>2.0</td>\n",
       "      <td>0.0</td>\n",
       "      <td>1.0</td>\n",
       "    </tr>\n",
       "    <tr>\n",
       "      <th>6</th>\n",
       "      <td>-53.746374</td>\n",
       "      <td>3.577858</td>\n",
       "      <td>3.0</td>\n",
       "      <td>0.0</td>\n",
       "      <td>1.0</td>\n",
       "    </tr>\n",
       "    <tr>\n",
       "      <th>7</th>\n",
       "      <td>-67.306797</td>\n",
       "      <td>4.220098</td>\n",
       "      <td>4.0</td>\n",
       "      <td>0.0</td>\n",
       "      <td>1.0</td>\n",
       "    </tr>\n",
       "    <tr>\n",
       "      <th>8</th>\n",
       "      <td>-57.222635</td>\n",
       "      <td>2.581108</td>\n",
       "      <td>5.0</td>\n",
       "      <td>0.0</td>\n",
       "      <td>1.0</td>\n",
       "    </tr>\n",
       "    <tr>\n",
       "      <th>9</th>\n",
       "      <td>-59.749623</td>\n",
       "      <td>2.522258</td>\n",
       "      <td>6.0</td>\n",
       "      <td>0.0</td>\n",
       "      <td>0.0</td>\n",
       "    </tr>\n",
       "    <tr>\n",
       "      <th>10</th>\n",
       "      <td>-72.367050</td>\n",
       "      <td>4.671573</td>\n",
       "      <td>7.0</td>\n",
       "      <td>0.0</td>\n",
       "      <td>0.0</td>\n",
       "    </tr>\n",
       "    <tr>\n",
       "      <th>11</th>\n",
       "      <td>-69.852953</td>\n",
       "      <td>2.178900</td>\n",
       "      <td>8.0</td>\n",
       "      <td>0.0</td>\n",
       "      <td>0.0</td>\n",
       "    </tr>\n",
       "    <tr>\n",
       "      <th>12</th>\n",
       "      <td>-75.869841</td>\n",
       "      <td>5.715734</td>\n",
       "      <td>9.0</td>\n",
       "      <td>0.0</td>\n",
       "      <td>0.0</td>\n",
       "    </tr>\n",
       "    <tr>\n",
       "      <th>13</th>\n",
       "      <td>-68.133741</td>\n",
       "      <td>1.908833</td>\n",
       "      <td>10.0</td>\n",
       "      <td>0.0</td>\n",
       "      <td>0.0</td>\n",
       "    </tr>\n",
       "  </tbody>\n",
       "</table>\n",
       "</div>"
      ],
      "text/plain": [
       "         mean       std  distance  obstruction  proximity\n",
       "0  -61.955542  6.396193       4.0          1.0        NaN\n",
       "1  -57.410522  1.442417       5.0          1.0        NaN\n",
       "2  -58.159827  2.524213       6.0          1.0        NaN\n",
       "3  -68.412590  3.272819       7.0          1.0        NaN\n",
       "4  -43.610822  3.461639       1.0          0.0        1.0\n",
       "5  -49.836438  1.643890       2.0          0.0        1.0\n",
       "6  -53.746374  3.577858       3.0          0.0        1.0\n",
       "7  -67.306797  4.220098       4.0          0.0        1.0\n",
       "8  -57.222635  2.581108       5.0          0.0        1.0\n",
       "9  -59.749623  2.522258       6.0          0.0        0.0\n",
       "10 -72.367050  4.671573       7.0          0.0        0.0\n",
       "11 -69.852953  2.178900       8.0          0.0        0.0\n",
       "12 -75.869841  5.715734       9.0          0.0        0.0\n",
       "13 -68.133741  1.908833      10.0          0.0        0.0"
      ]
     },
     "execution_count": 91,
     "metadata": {},
     "output_type": "execute_result"
    }
   ],
   "source": [
    "df = pd.DataFrame()\n",
    "for i in range(100):\n",
    "    df = pd.concat([get_data(f1,f2,f3,f4,f5,f6,f7,f8,f9,f10,f4_i,f5_i,f6_i,f7_i),df])\n",
    "    df = pd.concat([get_data(f4_i,f5_i,f6_i,f7_i),df])\n",
    "\n",
    "df = df.reset_index(drop=True)\n",
    "df[0:14]"
   ]
  },
  {
   "cell_type": "code",
   "execution_count": 113,
   "metadata": {},
   "outputs": [
    {
     "name": "stderr",
     "output_type": "stream",
     "text": [
      "/Users/maggieshi/opt/anaconda3/lib/python3.7/site-packages/sklearn/neural_network/_multilayer_perceptron.py:571: ConvergenceWarning: Stochastic Optimizer: Maximum iterations (200) reached and the optimization hasn't converged yet.\n",
      "  % self.max_iter, ConvergenceWarning)\n"
     ]
    },
    {
     "data": {
      "text/plain": [
       "MLPClassifier(activation='relu', alpha=0.0001, batch_size='auto', beta_1=0.9,\n",
       "              beta_2=0.999, early_stopping=False, epsilon=1e-08,\n",
       "              hidden_layer_sizes=(100,), learning_rate='constant',\n",
       "              learning_rate_init=0.001, max_fun=15000, max_iter=200,\n",
       "              momentum=0.9, n_iter_no_change=10, nesterovs_momentum=True,\n",
       "              power_t=0.5, random_state=None, shuffle=True, solver='adam',\n",
       "              tol=0.0001, validation_fraction=0.1, verbose=False,\n",
       "              warm_start=False)"
      ]
     },
     "execution_count": 113,
     "metadata": {},
     "output_type": "execute_result"
    }
   ],
   "source": [
    "x = df.drop(['obstruction','proximity'], axis=1)\n",
    "y = df['obstruction']\n",
    "\n",
    "x_train, x_test, y_train, y_test = train_test_split(x, y, test_size=0.3,random_state=42)\n",
    "\n",
    "model = MLPClassifier()\n",
    "model.fit(x_train,y_train)"
   ]
  },
  {
   "cell_type": "code",
   "execution_count": 114,
   "metadata": {},
   "outputs": [
    {
     "name": "stdout",
     "output_type": "stream",
     "text": [
      "accuracy score of training data: \n"
     ]
    },
    {
     "data": {
      "text/plain": [
       "0.8571428571428571"
      ]
     },
     "execution_count": 114,
     "metadata": {},
     "output_type": "execute_result"
    }
   ],
   "source": [
    "# accuracy score on training data\n",
    "\n",
    "print(\"accuracy score of training data: \")\n",
    "accuracy_score(y_train, model.predict(x_train))"
   ]
  },
  {
   "cell_type": "code",
   "execution_count": 115,
   "metadata": {},
   "outputs": [
    {
     "name": "stdout",
     "output_type": "stream",
     "text": [
      "accuracy score of test data: \n"
     ]
    },
    {
     "data": {
      "text/plain": [
       "0.8462962962962963"
      ]
     },
     "execution_count": 115,
     "metadata": {},
     "output_type": "execute_result"
    }
   ],
   "source": [
    "# accuracy score on testing data\n",
    "\n",
    "y_pred = model.predict(x_test)\n",
    "print(\"accuracy score of test data: \")\n",
    "accuracy_score(y_test, y_pred)"
   ]
  },
  {
   "cell_type": "code",
   "execution_count": 116,
   "metadata": {},
   "outputs": [
    {
     "name": "stdout",
     "output_type": "stream",
     "text": [
      "true negatives:219 false positives:83 false negatives:0 true positives:238\n"
     ]
    }
   ],
   "source": [
    "tn, fp, fn, tp = confusion_matrix(y_test, y_pred).ravel()\n",
    "\n",
    "print(\"true negatives:\"+str(tn) + \" false positives:\" + str(fp) + \" false negatives:\" + str(fn) + \" true positives:\" + str(tp))\n",
    "# reduce fp as much as possible"
   ]
  },
  {
   "cell_type": "code",
   "execution_count": 117,
   "metadata": {},
   "outputs": [
    {
     "data": {
      "image/png": "[encoded data removed]",
      "text/plain": [
       "<Figure size 432x288 with 1 Axes>"
      ]
     },
     "metadata": {
      "needs_background": "light"
     },
     "output_type": "display_data"
    }
   ],
   "source": [
    "# plot roc curve\n",
    "\n",
    "plot_roc_curve(model, x_test, y_test)\n",
    "plt.show()"
   ]
  },
  {
   "cell_type": "code",
   "execution_count": 118,
   "metadata": {},
   "outputs": [
    {
     "data": {
      "text/plain": [
       "<matplotlib.axes._subplots.AxesSubplot at 0x7fc4e37b5a90>"
      ]
     },
     "execution_count": 118,
     "metadata": {},
     "output_type": "execute_result"
    },
    {
     "data": {
      "image/png": "[encoded data removed]",
      "text/plain": [
       "<Figure size 432x288 with 2 Axes>"
      ]
     },
     "metadata": {
      "needs_background": "light"
     },
     "output_type": "display_data"
    }
   ],
   "source": [
    "# visualizing true positives, false negatives, true negatives, and false positives\n",
    "\n",
    "sns.heatmap(confusion_matrix(y_test, y_pred),annot=True)"
   ]
  },
  {
   "cell_type": "code",
   "execution_count": 98,
   "metadata": {},
   "outputs": [],
   "source": [
    "# copy dataframe to a new one so we can drop the NaN values for when there is obstruction\n",
    "\n",
    "df2 = df.copy()\n",
    "df2 = df2.dropna().reset_index(drop=True)"
   ]
  },
  {
   "cell_type": "code",
   "execution_count": 99,
   "metadata": {},
   "outputs": [
    {
     "name": "stderr",
     "output_type": "stream",
     "text": [
      "/Users/maggieshi/opt/anaconda3/lib/python3.7/site-packages/sklearn/neural_network/_multilayer_perceptron.py:571: ConvergenceWarning: Stochastic Optimizer: Maximum iterations (200) reached and the optimization hasn't converged yet.\n",
      "  % self.max_iter, ConvergenceWarning)\n"
     ]
    },
    {
     "data": {
      "text/plain": [
       "MLPClassifier(activation='relu', alpha=0.0001, batch_size='auto', beta_1=0.9,\n",
       "              beta_2=0.999, early_stopping=False, epsilon=1e-08,\n",
       "              hidden_layer_sizes=(100,), learning_rate='constant',\n",
       "              learning_rate_init=0.001, max_fun=15000, max_iter=200,\n",
       "              momentum=0.9, n_iter_no_change=10, nesterovs_momentum=True,\n",
       "              power_t=0.5, random_state=None, shuffle=True, solver='adam',\n",
       "              tol=0.0001, validation_fraction=0.1, verbose=False,\n",
       "              warm_start=False)"
      ]
     },
     "execution_count": 99,
     "metadata": {},
     "output_type": "execute_result"
    }
   ],
   "source": [
    "x = df2.drop(['proximity','distance','obstruction'], axis=1)\n",
    "y = df2['proximity']\n",
    "\n",
    "x_train, x_test, y_train, y_test = train_test_split(x, y, test_size=0.3,random_state=42)\n",
    "\n",
    "model = MLPClassifier()\n",
    "model.fit(x_train,y_train)"
   ]
  },
  {
   "cell_type": "code",
   "execution_count": 100,
   "metadata": {},
   "outputs": [
    {
     "name": "stdout",
     "output_type": "stream",
     "text": [
      "accuracy score of training data: \n"
     ]
    },
    {
     "data": {
      "text/plain": [
       "0.8914285714285715"
      ]
     },
     "execution_count": 100,
     "metadata": {},
     "output_type": "execute_result"
    }
   ],
   "source": [
    "# accuracy score on training data\n",
    "\n",
    "print(\"accuracy score of training data: \")\n",
    "accuracy_score(y_train, model.predict(x_train))"
   ]
  },
  {
   "cell_type": "code",
   "execution_count": 101,
   "metadata": {},
   "outputs": [
    {
     "name": "stdout",
     "output_type": "stream",
     "text": [
      "accuracy score of test data: \n"
     ]
    },
    {
     "data": {
      "text/plain": [
       "0.92"
      ]
     },
     "execution_count": 101,
     "metadata": {},
     "output_type": "execute_result"
    }
   ],
   "source": [
    "# accuracy score on testing data\n",
    "\n",
    "y_pred = model.predict(x_test)\n",
    "print(\"accuracy score of test data: \")\n",
    "accuracy_score(y_test, y_pred)"
   ]
  },
  {
   "cell_type": "code",
   "execution_count": 102,
   "metadata": {},
   "outputs": [
    {
     "name": "stdout",
     "output_type": "stream",
     "text": [
      "true negatives:163 false positives:0 false negatives:24 true positives:113\n"
     ]
    }
   ],
   "source": [
    "tn, fp, fn, tp = confusion_matrix(y_test, y_pred).ravel()\n",
    "\n",
    "print(\"true negatives:\"+str(tn) + \" false positives:\" + str(fp) + \" false negatives:\" + str(fn) + \" true positives:\" + str(tp))\n",
    "# reduce fn as much as possible"
   ]
  },
  {
   "cell_type": "code",
   "execution_count": 103,
   "metadata": {},
   "outputs": [
    {
     "data": {
      "image/png": "[encoded data removed]",
      "text/plain": [
       "<Figure size 432x288 with 1 Axes>"
      ]
     },
     "metadata": {
      "needs_background": "light"
     },
     "output_type": "display_data"
    }
   ],
   "source": [
    "# compute predicted probabilities: y_pred_prob\n",
    "y_pred_prob = model.predict_proba(x_test)[:,1]\n",
    "\n",
    "# penerate ROC curve values: fpr, tpr, thresholds\n",
    "fpr, tpr, thresholds = roc_curve(y_test, y_pred_prob)\n",
    "\n",
    "# plot ROC curve\n",
    "plt.plot([0, 1], [0, 1], 'k--')\n",
    "plt.plot(fpr, tpr)\n",
    "plt.xlabel('False Positive Rate')\n",
    "plt.ylabel('True Positive Rate')\n",
    "plt.title('ROC Curve')\n",
    "plt.show()"
   ]
  },
  {
   "cell_type": "code",
   "execution_count": 104,
   "metadata": {},
   "outputs": [
    {
     "name": "stdout",
     "output_type": "stream",
     "text": [
      "AUC: 0.9844610630961443\n"
     ]
    }
   ],
   "source": [
    "# Import necessary modules\n",
    "from sklearn.model_selection import cross_val_score\n",
    "from sklearn.metrics import roc_auc_score\n",
    "\n",
    "# Compute predicted probabilities: y_pred_prob\n",
    "y_pred_prob = model.predict_proba(x_test)[:,1]\n",
    "\n",
    "# Compute and print AUC score\n",
    "print(\"AUC: {}\".format(roc_auc_score(y_test, y_pred_prob)))"
   ]
  },
  {
   "cell_type": "code",
   "execution_count": 105,
   "metadata": {},
   "outputs": [
    {
     "data": {
      "image/png": "[encoded data removed]",
      "text/plain": [
       "<Figure size 432x288 with 1 Axes>"
      ]
     },
     "metadata": {
      "needs_background": "light"
     },
     "output_type": "display_data"
    }
   ],
   "source": [
    "# plot roc curve\n",
    "plot_roc_curve(model, x_test, y_test)\n",
    "plt.show()"
   ]
  },
  {
   "cell_type": "code",
   "execution_count": 106,
   "metadata": {},
   "outputs": [
    {
     "data": {
      "text/plain": [
       "<matplotlib.axes._subplots.AxesSubplot at 0x7fc4e3aa6c10>"
      ]
     },
     "execution_count": 106,
     "metadata": {},
     "output_type": "execute_result"
    },
    {
     "data": {
      "image/png": "[encoded data removed]",
      "text/plain": [
       "<Figure size 432x288 with 2 Axes>"
      ]
     },
     "metadata": {
      "needs_background": "light"
     },
     "output_type": "display_data"
    }
   ],
   "source": [
    "# visualizing true positives, false negatives, true negatives, and false positives\n",
    "sns.heatmap(confusion_matrix(y_test, y_pred),annot=True)"
   ]
  }
 ],
 "metadata": {
  "kernelspec": {
   "display_name": "Python 3",
   "language": "python",
   "name": "python3"
  },
  "language_info": {
   "codemirror_mode": {
    "name": "ipython",
    "version": 3
   },
   "file_extension": ".py",
   "mimetype": "text/x-python",
   "name": "python",
   "nbconvert_exporter": "python",
   "pygments_lexer": "ipython3",
   "version": "3.7.6"
  }
 },
 "nbformat": 4,
 "nbformat_minor": 4
}
